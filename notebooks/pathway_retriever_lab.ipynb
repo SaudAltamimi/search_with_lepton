{
 "cells": [
  {
   "cell_type": "code",
   "execution_count": 3,
   "metadata": {},
   "outputs": [
    {
     "name": "stdout",
     "output_type": "stream",
     "text": [
      "The autoreload extension is already loaded. To reload it, use:\n",
      "  %reload_ext autoreload\n"
     ]
    },
    {
     "data": {
      "text/plain": [
       "True"
      ]
     },
     "execution_count": 3,
     "metadata": {},
     "output_type": "execute_result"
    }
   ],
   "source": [
    "%load_ext autoreload\n",
    "%autoreload 2\n",
    "\n",
    "import requests\n",
    "from pathway.xpacks.llm.vector_store import VectorStoreClient\n",
    "import pathway as pw\n",
    "from dotenv import load_dotenv\n",
    "import os\n",
    "\n",
    "# Load .env file\n",
    "load_dotenv()"
   ]
  },
  {
   "cell_type": "markdown",
   "metadata": {},
   "source": [
    "# Create a streaming retriever with pathway"
   ]
  },
  {
   "cell_type": "code",
   "execution_count": 7,
   "metadata": {},
   "outputs": [],
   "source": [
    "PATHWAY_PORT = 8765\n",
    "# first run streaming retriever by running pathway retriever\n",
    "client = VectorStoreClient(\n",
    "    host=\"127.0.0.1\",\n",
    "    port=PATHWAY_PORT,\n",
    ")\n",
    "query = \"What is the recurring run-rate on fee and exchange income?\"\n",
    "docs = client(query,k = 10)\n"
   ]
  },
  {
   "cell_type": "code",
   "execution_count": 8,
   "metadata": {},
   "outputs": [
    {
     "data": {
      "text/plain": [
       "['Saudi Awwal Bank Earnings Call 20231108.pdf',\n",
       " 'Banque Saudi Fransi Earnings Call 2024-02-14.pdf',\n",
       " 'Saudi National BankThe Earnings Call 2024226.pdf',\n",
       " 'Al Rajhi Bank Earnings Call 2024-02-07.pdf',\n",
       " 'Saudi Arabian Oil Co Earnings Call 20231107.pdf',\n",
       " 'Qatar National Bank QPSC Earnings Call 2024-01-17.pdf',\n",
       " 'Saudi Awwal Bank Earnings Call 20231108.pdf',\n",
       " 'Saudi National BankThe Earnings Call 2024226.pdf',\n",
       " 'Qatar National Bank QPSC Earnings Call 2024-01-17.pdf',\n",
       " 'Qatar National Bank QPSC Earnings Call 2024-01-17.pdf']"
      ]
     },
     "execution_count": 8,
     "metadata": {},
     "output_type": "execute_result"
    }
   ],
   "source": [
    "[doc['metadata']['path'] for doc in docs]"
   ]
  }
 ],
 "metadata": {
  "kernelspec": {
   "display_name": "Python 3",
   "language": "python",
   "name": "python3"
  },
  "language_info": {
   "codemirror_mode": {
    "name": "ipython",
    "version": 3
   },
   "file_extension": ".py",
   "mimetype": "text/x-python",
   "name": "python",
   "nbconvert_exporter": "python",
   "pygments_lexer": "ipython3",
   "version": "3.10.13"
  }
 },
 "nbformat": 4,
 "nbformat_minor": 2
}
